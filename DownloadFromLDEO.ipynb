{
 "cells": [
  {
   "cell_type": "code",
   "execution_count": 3,
   "metadata": {},
   "outputs": [],
   "source": [
    "%matplotlib notebook \n",
    "import scipy.stats as stats\n",
    "import numpy as np\n",
    "import matplotlib.pyplot as plt\n",
    "from mpl_toolkits.mplot3d import Axes3D\n",
    "import matplotlib.cm as cm\n",
    "from scipy import integrate\n",
    "import glob,sys,os\n",
    "\n",
    "from mpl_toolkits.basemap import Basemap, shiftgrid\n",
    "\n",
    "import MV2 as MV\n",
    "import cdms2 as cdms\n",
    "import genutil\n",
    "import cdutil\n",
    "import cdtime\n",
    "\n",
    "sys.path.append(\"/Users/kmarvel/Google Drive/python-utils\")\n",
    "import Plotting\n",
    "\n",
    "import requests\n",
    "import pandas as pd\n",
    "\n",
    "### Set classic Netcdf (ver 3)\n",
    "cdms.setNetcdfShuffleFlag(0)\n",
    "cdms.setNetcdfDeflateFlag(0)\n",
    "cdms.setNetcdfDeflateLevelFlag(0)"
   ]
  },
  {
   "cell_type": "code",
   "execution_count": 4,
   "metadata": {},
   "outputs": [],
   "source": [
    "def check_availability(curr_mod,curr_var,experiment_id):\n",
    "    ingrid_cmip6 = pd.read_csv('mary_cmip6_101419.csv')\n",
    "    df1 = ingrid_cmip6[(ingrid_cmip6.source_id==curr_mod)\\\n",
    "                       & (ingrid_cmip6.variable_id==curr_var)\\\n",
    "                       & (ingrid_cmip6.experiment_id == experiment_id)]\n",
    "    return(df1)\n",
    "def get_members(curr_mod,curr_var,experiment_id):\n",
    "    df1=check_availability(curr_mod,curr_var,experiment_id)\n",
    "    return(np.unique(df1.member_id))"
   ]
  },
  {
   "cell_type": "code",
   "execution_count": 7,
   "metadata": {},
   "outputs": [],
   "source": [
    "def pull_data(curr_mod,curr_var,experiment_id,member_id,overwrite=False):\n",
    "    # Baseline directory\n",
    "    base_dir   = 'http://mary.ldeo.columbia.edu:81/CMIP6/.'\n",
    "    # Write directory\n",
    "    base_write_dir = '/Users/kmarvel/Documents/DATA/dester/piControlRaw/'\n",
    "\n",
    "    df_proclist = pd.DataFrame(columns=['model','sim','ensemble','variable'])\n",
    "    ingrid_cmip6 = pd.read_csv('mary_cmip6_101419.csv')\n",
    "\n",
    "\n",
    "    write_dir = base_write_dir+curr_var+\"/\"+curr_mod+\"/\"\n",
    "    write_stem = curr_var+\".\"+experiment_id+\".\"+curr_mod+\".\"+member_id+\".*.nc\"\n",
    "    \n",
    "    #If the directory doesn't exist already, make it\n",
    "    os.makedirs(os.path.join(base_write_dir, curr_var, curr_mod),exist_ok=True)\n",
    "    \n",
    "    if not overwrite:\n",
    "        already_exist=glob.glob(write_dir+write_stem)\n",
    "        if len(already_exist)!=0:\n",
    "            return\n",
    "    #rips=np.unique(np.array(df1.member_id))\n",
    "\n",
    "    df1 = ingrid_cmip6[(ingrid_cmip6.source_id==curr_mod)\\\n",
    "                                   & (ingrid_cmip6.variable_id==curr_var) & \\\n",
    "                                   (ingrid_cmip6.experiment_id == experiment_id)&\\\n",
    "                                  (ingrid_cmip6.member_id == member_id)]\n",
    "\n",
    "    #Construct openDAP link\n",
    "    nfiles,nidentifiers=df1.shape\n",
    "    times=np.sort(np.array(df1.time_range))\n",
    "    i_ens=np.where(df1.time_range==times[0])[0]\n",
    "    time_range=times[0]\n",
    "\n",
    "    for time_range in times:\n",
    "        # Construct Remote OpenDAP Link\n",
    "        i_ens=np.where(df1.time_range==time_range)[0][0]\n",
    "        nc_link = base_dir+df1.activity_id.iloc[i_ens]+'/.'+df1.institution_id.iloc[i_ens]+'/.'+curr_mod+'/.'+experiment_id+'/.'+df1.member_id.iloc[i_ens]+'/.'+df1.table_id.iloc[i_ens]+ \\\n",
    "                            '/.'+curr_var+'/.'+df1.grid_label.iloc[i_ens]+'/.'+df1.version.iloc[i_ens]+'/.'+df1.file_basename.iloc[i_ens]+'/.'+curr_var+'/dods'\n",
    "        request = requests.get(nc_link)\n",
    "        if request.status_code == 200:\n",
    "            #Get the data\n",
    "            f=cdms.open(nc_link)\n",
    "            data=f(curr_var)\n",
    "            tax=data.getTime()\n",
    "\n",
    "            #reshape it to years and months\n",
    "            ntime=data.shape[0]\n",
    "            nyears=int(ntime/12)\n",
    "            rdata=data.reshape((nyears,12)+data.shape[1:])\n",
    "            for i in range(nyears):\n",
    "                yeardata=rdata[i]\n",
    "                #Make the time axis\n",
    "                tax_trunc=cdms.createAxis(tax[12*i:12*(i+1)])\n",
    "                tax_trunc.designateTime()\n",
    "                for key in tax.attributes.keys():\n",
    "                    setattr(tax_trunc,key,tax.attributes[key])\n",
    "                yeardata.setAxis(0,tax_trunc)\n",
    "                #get the start year for labeling purposes\n",
    "                year=str(tax_trunc.asComponentTime()[0].year)\n",
    "                writename = curr_var+\".\"+experiment_id+\".\"+curr_mod+\".\"+member_id+\".\"+year.zfill(4)+\".nc\"\n",
    "                fw=cdms.open(write_dir+writename,\"w\")\n",
    "                fw.write(yeardata)\n",
    "                fw.close()\n",
    "            f.close()\n"
   ]
  },
  {
   "cell_type": "code",
   "execution_count": 5,
   "metadata": {},
   "outputs": [],
   "source": [
    "curr_mod=\"BCC-CSM2-MR\"\n",
    "curr_var=\"pr\"\n",
    "experiment_id=\"piControl\"\n",
    "member_id=\"r1i1p1f1\"\n",
    "pull_data(curr_mod,curr_var,experiment_id,member_id)"
   ]
  },
  {
   "cell_type": "code",
   "execution_count": null,
   "metadata": {},
   "outputs": [],
   "source": []
  },
  {
   "cell_type": "code",
   "execution_count": 8,
   "metadata": {},
   "outputs": [],
   "source": [
    "ingrid_cmip6 = pd.read_csv('mary_cmip6_101419.csv')"
   ]
  },
  {
   "cell_type": "code",
   "execution_count": 9,
   "metadata": {},
   "outputs": [
    {
     "name": "stdout",
     "output_type": "stream",
     "text": [
      "trying mrsos and CNRM-CM6-1 r1i1p1f2\n",
      "trying mrsos and CNRM-ESM2-1 r1i1p1f2\n",
      "trying mrsos and CanESM5 r1i1p2f1\n",
      "trying mrsos and GISS-E2-1-G r102i1p1f1\n",
      "trying mrsos and IPSL-CM6A-LR r1i2p1f1\n",
      "trying mrsos and MIROC-ES2L r1i1p1f2\n",
      "trying mrsos and UKESM1-0-LL r1i1p1f2\n"
     ]
    },
    {
     "name": "stderr",
     "output_type": "stream",
     "text": [
      "/Users/kmarvel/anaconda3/envs/cdat_plus/lib/python3.6/site-packages/numpy/ma/core.py:3169: FutureWarning: Using a non-tuple sequence for multidimensional indexing is deprecated; use `arr[tuple(seq)]` instead of `arr[seq]`. In the future this will be interpreted as an array index, `arr[np.array(seq)]`, which will result either in an error or a different result.\n",
      "  dout = self.data[indx]\n",
      "/Users/kmarvel/anaconda3/envs/cdat_plus/lib/python3.6/site-packages/numpy/ma/core.py:3201: FutureWarning: Using a non-tuple sequence for multidimensional indexing is deprecated; use `arr[tuple(seq)]` instead of `arr[seq]`. In the future this will be interpreted as an array index, `arr[np.array(seq)]`, which will result either in an error or a different result.\n",
      "  mout = _mask[indx]\n"
     ]
    },
    {
     "name": "stdout",
     "output_type": "stream",
     "text": [
      "trying pr and CNRM-CM6-1 r1i1p1f2\n",
      "trying pr and CNRM-ESM2-1 r1i1p1f2\n",
      "trying pr and CanESM5 r1i1p2f1\n",
      "trying pr and IPSL-CM6A-LR r1i2p1f1\n",
      "trying pr and UKESM1-0-LL r1i1p1f2\n",
      "trying prsn and CNRM-CM6-1 r1i1p1f2\n",
      "trying prsn and CNRM-ESM2-1 r1i1p1f2\n",
      "trying prsn and CanESM5 r1i1p2f1\n",
      "trying prsn and IPSL-CM6A-LR r1i2p1f1\n",
      "trying prsn and UKESM1-0-LL r1i1p1f2\n",
      "trying tas and CNRM-CM6-1 r1i1p1f2\n",
      "trying tas and CNRM-ESM2-1 r1i1p1f2\n",
      "trying tas and CanESM5 r1i1p2f1\n",
      "trying tas and IPSL-CM6A-LR r1i2p1f1\n",
      "trying tas and UKESM1-0-LL r1i1p1f2\n"
     ]
    }
   ],
   "source": [
    "#variables=[\"pr\",\"evspsbl\",\"mrro\",\"mrros\",\"mrso\",\"mrsos\",\"pr\",\"prsn\",\"tas\"]\n",
    "variables=[\"mrsos\",\"pr\",\"prsn\",\"tas\"]\n",
    "models=np.unique(ingrid_cmip6.source_id)\n",
    "for variable in variables:\n",
    "    for model in models:\n",
    "        rips=get_members(model,variable,experiment_id)\n",
    "        if len(rips)!=0:\n",
    "            for rip in rips:\n",
    "                if rip!=\"r1i1p1f1\":\n",
    "                    print(\"trying \"+variable+\" and \"+ model +\" \"+rip)\n",
    "                    try:\n",
    "                        pull_data(model,variable,\"piControl\",rip)\n",
    "                    except:\n",
    "                        print(variable+\" and \"+ model +\" are bad\")"
   ]
  },
  {
   "cell_type": "code",
   "execution_count": null,
   "metadata": {},
   "outputs": [],
   "source": []
  }
 ],
 "metadata": {
  "kernelspec": {
   "display_name": "Python 3",
   "language": "python",
   "name": "python3"
  },
  "language_info": {
   "codemirror_mode": {
    "name": "ipython",
    "version": 3
   },
   "file_extension": ".py",
   "mimetype": "text/x-python",
   "name": "python",
   "nbconvert_exporter": "python",
   "pygments_lexer": "ipython3",
   "version": "3.6.7"
  }
 },
 "nbformat": 4,
 "nbformat_minor": 2
}
