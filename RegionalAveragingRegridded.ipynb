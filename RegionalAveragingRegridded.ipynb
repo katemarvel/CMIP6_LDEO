{
 "cells": [
  {
   "cell_type": "code",
   "execution_count": 3,
   "metadata": {},
   "outputs": [],
   "source": [
    "import cdms2 as cdms\n",
    "import MV2 as MV\n",
    "import cdtime,cdutil,genutil\n",
    "import numpy as np\n",
    "import matplotlib.pyplot as plt\n",
    "import matplotlib.cm as cm\n",
    "import string\n",
    "import glob\n",
    "import scipy.stats as stats\n",
    "# Local solution\n",
    "# If running remotely, uncomment the following code:\n",
    "# %%bash\n",
    "# git clone https://github.com/katemarvel/CMIP5_tools\n",
    "# import CMIP5_tools as cmip5\n",
    "import sys,os\n",
    "sys.path.append(\"/Users/kmarvel/Google Drive/python-utils\")\n",
    "\n",
    "import CMIP5_tools as cmip5\n",
    "import DA_tools\n",
    "import Plotting\n",
    "\n",
    "from eofs.cdms import Eof\n",
    "from eofs.multivariate.cdms import MultivariateEof\n",
    "%matplotlib inline\n"
   ]
  },
  {
   "cell_type": "code",
   "execution_count": 4,
   "metadata": {},
   "outputs": [],
   "source": [
    "central_plains=cdutil.region.domain(longitude=(-105,-92),latitude=(32,46))\n",
    "southwest=cdutil.region.domain(longitude=(-125,-105),latitude=(32,41))\n"
   ]
  },
  {
   "cell_type": "code",
   "execution_count": 5,
   "metadata": {},
   "outputs": [],
   "source": [
    "#sshfs mout to kdm2144@dester.ldeo.columbia.edu:/home/kdm2144/ \n",
    "#datadirec=\"/Users/kmarvel/Documents/DATA/dester/\"\n",
    "datadirec=\"/Volumes/RAVEN/CMIP6/cmip6interp/\"\n",
    "writedirec=\"/Users/kmarvel/Documents/DATA/dester/regional_averages/\"\n",
    "fixedvardirec=\"/Users/kmarvel/Documents/DATA/dester/fixedvar/\""
   ]
  },
  {
   "cell_type": "code",
   "execution_count": 15,
   "metadata": {},
   "outputs": [
    {
     "name": "stdout",
     "output_type": "stream",
     "text": [
      "hist-ssp245\n",
      "hist-ssp370\n",
      "hist-ssp585\n",
      "hist-ssp245\n",
      "hist-ssp370\n",
      "hist-ssp585\n",
      "hist-ssp245\n",
      "hist-ssp370\n",
      "hist-ssp585\n",
      "hist-ssp245\n",
      "hist-ssp370\n",
      "hist-ssp585\n",
      "hist-ssp245\n",
      "hist-ssp370\n",
      "hist-ssp585\n",
      "hist-ssp245\n",
      "hist-ssp370\n",
      "hist-ssp585\n",
      "hist-ssp245\n",
      "hist-ssp585\n",
      "hist-ssp245\n",
      "hist-ssp370\n",
      "hist-ssp585\n",
      "hist-ssp245\n",
      "hist-ssp370\n",
      "hist-ssp585\n",
      "hist-ssp245\n",
      "hist-ssp370\n",
      "hist-ssp585\n",
      "hist-ssp370\n",
      "hist-ssp585\n",
      "hist-ssp245\n",
      "hist-ssp370\n",
      "hist-ssp585\n",
      "hist-ssp245\n",
      "hist-ssp370\n",
      "hist-ssp585\n",
      "hist-ssp585\n",
      "hist-ssp245\n",
      "hist-ssp370\n",
      "hist-ssp585\n",
      "hist-ssp245\n",
      "hist-ssp370\n",
      "hist-ssp585\n",
      "hist-ssp585\n",
      "hist-ssp245\n",
      "hist-ssp370\n",
      "hist-ssp585\n",
      "hist-ssp245\n",
      "hist-ssp370\n",
      "hist-ssp585\n",
      "hist-ssp245\n",
      "hist-ssp370\n",
      "hist-ssp585\n",
      "hist-ssp245\n",
      "hist-ssp585\n",
      "hist-ssp245\n",
      "hist-ssp370\n",
      "hist-ssp585\n",
      "hist-ssp245\n",
      "hist-ssp370\n",
      "hist-ssp585\n",
      "hist-ssp245\n",
      "hist-ssp370\n",
      "hist-ssp585\n",
      "hist-ssp370\n",
      "hist-ssp585\n",
      "hist-ssp245\n",
      "hist-ssp370\n",
      "hist-ssp370\n",
      "hist-ssp585\n",
      "hist-ssp245\n",
      "hist-ssp370\n",
      "hist-ssp585\n",
      "hist-ssp245\n",
      "hist-ssp370\n",
      "hist-ssp585\n",
      "hist-ssp245\n",
      "hist-ssp370\n",
      "hist-ssp585\n",
      "hist-ssp245\n",
      "hist-ssp370\n",
      "hist-ssp585\n",
      "hist-ssp245\n",
      "hist-ssp370\n",
      "hist-ssp585\n",
      "hist-ssp585\n",
      "hist-ssp245\n",
      "hist-ssp370\n",
      "hist-ssp585\n",
      "hist-ssp245\n",
      "hist-ssp585\n",
      "hist-ssp245\n",
      "hist-ssp370\n",
      "hist-ssp585\n",
      "hist-ssp245\n",
      "hist-ssp370\n",
      "hist-ssp585\n",
      "hist-ssp245\n",
      "hist-ssp370\n",
      "hist-ssp585\n",
      "hist-ssp370\n",
      "hist-ssp585\n",
      "hist-ssp245\n",
      "hist-ssp370\n",
      "hist-ssp585\n",
      "hist-ssp245\n",
      "hist-ssp370\n",
      "hist-ssp585\n",
      "hist-ssp585\n",
      "hist-ssp245\n",
      "hist-ssp370\n",
      "hist-ssp585\n",
      "hist-ssp245\n",
      "hist-ssp370\n",
      "hist-ssp585\n",
      "hist-ssp245\n",
      "hist-ssp370\n",
      "hist-ssp585\n",
      "hist-ssp245\n",
      "hist-ssp370\n",
      "hist-ssp585\n",
      "hist-ssp245\n",
      "hist-ssp370\n",
      "hist-ssp585\n",
      "hist-ssp245\n",
      "hist-ssp585\n",
      "hist-ssp245\n",
      "hist-ssp370\n",
      "hist-ssp585\n",
      "hist-ssp245\n",
      "hist-ssp370\n",
      "hist-ssp585\n",
      "hist-ssp245\n",
      "hist-ssp370\n",
      "hist-ssp585\n",
      "hist-ssp370\n",
      "hist-ssp585\n",
      "hist-ssp245\n",
      "hist-ssp370\n",
      "hist-ssp585\n",
      "hist-ssp245\n",
      "hist-ssp370\n",
      "hist-ssp585\n",
      "hist-ssp585\n",
      "hist-ssp245\n",
      "hist-ssp370\n",
      "hist-ssp585\n",
      "hist-ssp245\n",
      "hist-ssp370\n",
      "hist-ssp585\n",
      "hist-ssp245\n",
      "hist-ssp370\n",
      "hist-ssp585\n",
      "hist-ssp245\n",
      "hist-ssp370\n",
      "hist-ssp585\n",
      "hist-ssp245\n",
      "hist-ssp370\n",
      "hist-ssp585\n",
      "hist-ssp245\n",
      "hist-ssp585\n",
      "hist-ssp245\n",
      "hist-ssp370\n",
      "hist-ssp585\n",
      "hist-ssp245\n",
      "hist-ssp370\n",
      "hist-ssp585\n",
      "hist-ssp245\n",
      "hist-ssp370\n",
      "hist-ssp585\n",
      "hist-ssp370\n",
      "hist-ssp585\n",
      "hist-ssp245\n",
      "hist-ssp370\n",
      "hist-ssp585\n",
      "hist-ssp245\n",
      "hist-ssp370\n",
      "hist-ssp585\n",
      "hist-ssp245\n",
      "hist-ssp370\n",
      "hist-ssp585\n",
      "hist-ssp245\n",
      "hist-ssp370\n",
      "hist-ssp585\n",
      "hist-ssp245\n",
      "hist-ssp370\n",
      "hist-ssp585\n",
      "hist-ssp585\n",
      "hist-ssp245\n",
      "hist-ssp370\n",
      "hist-ssp585\n",
      "hist-ssp245\n",
      "hist-ssp370\n",
      "hist-ssp585\n",
      "hist-ssp245\n",
      "hist-ssp585\n",
      "hist-ssp245\n",
      "hist-ssp370\n",
      "hist-ssp585\n",
      "hist-ssp245\n",
      "hist-ssp370\n",
      "hist-ssp585\n",
      "hist-ssp245\n",
      "hist-ssp370\n",
      "hist-ssp585\n",
      "hist-ssp245\n",
      "hist-ssp370\n",
      "hist-ssp585\n",
      "hist-ssp245\n",
      "hist-ssp370\n",
      "hist-ssp585\n",
      "hist-ssp245\n",
      "hist-ssp370\n",
      "hist-ssp585\n",
      "hist-ssp245\n",
      "hist-ssp370\n",
      "hist-ssp585\n",
      "hist-ssp245\n",
      "hist-ssp370\n",
      "hist-ssp585\n",
      "hist-ssp245\n",
      "hist-ssp370\n",
      "hist-ssp245\n",
      "hist-ssp370\n",
      "hist-ssp585\n",
      "hist-ssp245\n",
      "hist-ssp370\n",
      "hist-ssp585\n",
      "hist-ssp245\n",
      "hist-ssp245\n",
      "hist-ssp370\n",
      "hist-ssp245\n",
      "hist-ssp370\n",
      "hist-ssp585\n",
      "hist-ssp245\n",
      "hist-ssp370\n",
      "hist-ssp370\n",
      "hist-ssp126\n",
      "hist-ssp245\n",
      "hist-ssp126\n",
      "hist-ssp126\n",
      "hist-ssp126\n",
      "hist-ssp126\n",
      "hist-ssp126\n",
      "hist-ssp126\n",
      "hist-ssp126\n",
      "hist-ssp126\n",
      "hist-ssp126\n",
      "hist-ssp126\n",
      "hist-ssp126\n",
      "hist-ssp126\n",
      "hist-ssp126\n",
      "hist-ssp126\n",
      "hist-ssp126\n",
      "hist-ssp126\n",
      "hist-ssp126\n",
      "hist-ssp126\n",
      "hist-ssp126\n",
      "hist-ssp126\n",
      "hist-ssp126\n",
      "hist-ssp126\n",
      "hist-ssp126\n",
      "hist-ssp126\n",
      "hist-ssp126\n",
      "hist-ssp126\n",
      "hist-ssp126\n",
      "hist-ssp126\n",
      "hist-ssp126\n",
      "hist-ssp126\n",
      "hist-ssp126\n",
      "hist-ssp126\n",
      "hist-ssp126\n",
      "hist-ssp126\n",
      "hist-ssp126\n",
      "hist-ssp126\n",
      "hist-ssp126\n",
      "hist-ssp126\n",
      "hist-ssp126\n",
      "hist-ssp126\n",
      "hist-ssp126\n",
      "hist-ssp126\n",
      "hist-ssp126\n",
      "hist-ssp126\n",
      "hist-ssp126\n",
      "hist-ssp126\n",
      "hist-ssp126\n",
      "hist-ssp126\n",
      "hist-ssp126\n",
      "hist-ssp126\n",
      "hist-ssp126\n",
      "hist-ssp126\n",
      "hist-ssp126\n",
      "hist-ssp126\n",
      "hist-ssp126\n",
      "hist-ssp126\n",
      "hist-ssp126\n",
      "hist-ssp126\n",
      "hist-ssp126\n",
      "hist-ssp126\n",
      "hist-ssp126\n",
      "hist-ssp126\n",
      "hist-ssp126\n",
      "hist-ssp126\n",
      "hist-ssp126\n",
      "hist-ssp126\n",
      "hist-ssp126\n",
      "hist-ssp126\n",
      "hist-ssp126\n",
      "hist-ssp126\n",
      "hist-ssp126\n",
      "hist-ssp245\n",
      "hist-ssp245\n",
      "hist-ssp245\n",
      "hist-ssp245\n",
      "hist-ssp245\n",
      "hist-ssp245\n",
      "hist-ssp245\n",
      "hist-ssp245\n",
      "hist-ssp245\n",
      "hist-ssp245\n",
      "hist-ssp245\n",
      "hist-ssp370\n",
      "hist-ssp370\n",
      "hist-ssp370\n",
      "hist-ssp370\n",
      "hist-ssp370\n",
      "hist-ssp370\n"
     ]
    }
   ],
   "source": [
    "allfiles=glob.glob(datadirec+\"*\")\n",
    "for file in allfiles:\n",
    "    variable,regrid,model,hist,ssp,starttime,stoptime,nc=file.split(\".\")\n",
    "    "
   ]
  },
  {
   "cell_type": "code",
   "execution_count": 18,
   "metadata": {},
   "outputs": [
    {
     "data": {
      "text/plain": [
       "['ens', 'yr', 'mon', 'lat', 'lon']"
      ]
     },
     "execution_count": 18,
     "metadata": {},
     "output_type": "execute_result"
    }
   ],
   "source": [
    "f=cdms.open(datadirec+\"pr.regrid.CESM2.hist.ssp370.1850.2100.nc\")\n",
    "f[\"pr\"].getAxisIds()"
   ]
  },
  {
   "cell_type": "code",
   "execution_count": 163,
   "metadata": {},
   "outputs": [],
   "source": [
    "variables=[x.split(\"/\")[-1] for x in glob.glob(datadirec+\"*\")]\n",
    "\n",
    "variable=variables[0]\n",
    "\n",
    "cmd = \"mkdir \"+writedirec+\"/central_plains/\"+variable\n",
    "os.system(cmd)\n",
    "\n",
    "cmd = \"mkdir \"+writedirec+\"/southwest/\"+variable\n",
    "os.system(cmd)\n",
    "#modeldirs=glob.glob(datadirec+experiment+\"/\"+variable+\"/*\")\n",
    "modeldirs=glob.glob(datadirec+variable+\"/*\")"
   ]
  },
  {
   "cell_type": "code",
   "execution_count": 164,
   "metadata": {},
   "outputs": [],
   "source": [
    "direc=modeldirs[0]\n",
    "model=direc.split(\"/\")[-1]\n",
    "allfiles=glob.glob(direc+\"/*\")\n",
    "experiments=np.unique([x.split(\".\")[1] for x in allfiles])\n",
    "experiment=\"historical\"\n",
    "rips=np.unique([x.split(\".\")[-3] for x in allfiles])\n",
    "rip=rips[0]\n",
    "landthresh=1\n",
    "#Get the land fraction\n",
    "landfiles=glob.glob(fixedvardirec+\"sftlf*\"+model+\"*\")\n",
    "landfiles\n",
    "\n",
    "if len(landfiles)==1:\n",
    "    fland=cdms.open(landfiles[0])\n",
    "    landfrac=fland(\"sftlf\")\n",
    "    fland.close()\n",
    "else:\n",
    "    print(\"can't find land fraction file\")\n",
    "#print(direc)\n",
    "ripfiles=np.sort(glob.glob(direc+\"/\"+variable+\".\"+experiment+\".\"+model+\".\"+rip+\"*\"))\n"
   ]
  },
  {
   "cell_type": "code",
   "execution_count": 148,
   "metadata": {},
   "outputs": [
    {
     "name": "stderr",
     "output_type": "stream",
     "text": [
      "/Users/kmarvel/anaconda3/envs/cdat_plus/lib/python3.6/site-packages/numpy/ma/core.py:3169: FutureWarning: Using a non-tuple sequence for multidimensional indexing is deprecated; use `arr[tuple(seq)]` instead of `arr[seq]`. In the future this will be interpreted as an array index, `arr[np.array(seq)]`, which will result either in an error or a different result.\n",
      "  dout = self.data[indx]\n",
      "/Users/kmarvel/anaconda3/envs/cdat_plus/lib/python3.6/site-packages/numpy/ma/core.py:3201: FutureWarning: Using a non-tuple sequence for multidimensional indexing is deprecated; use `arr[tuple(seq)]` instead of `arr[seq]`. In the future this will be interpreted as an array index, `arr[np.array(seq)]`, which will result either in an error or a different result.\n",
      "  mout = _mask[indx]\n"
     ]
    }
   ],
   "source": [
    "# direc=modeldirs[0]\n",
    "# model=direc.split(\"/\")[-1]\n",
    "# landthresh=1\n",
    "# #Get the land fraction\n",
    "# landfiles=glob.glob(fixedvardirec+\"sftlf*\"+model+\"*\")\n",
    "# landfiles\n",
    "\n",
    "# if len(landfiles)==1:\n",
    "#     fland=cdms.open(landfiles[0])\n",
    "#     landfrac=fland(\"sftlf\")\n",
    "#     fland.close()\n",
    "# else:\n",
    "#     print(\"can't find land fraction file\")\n",
    "# allfiles=glob.glob(direc+\"/*\")\n",
    "# rips=np.unique([x.split(\".\")[-3] for x in allfiles])\n",
    "\n",
    "for rip in rips:\n",
    "    yearcheck=[]\n",
    "    #ripfiles=sorted(glob.glob(direc+\"/*\"+rip+\"*\"))\n",
    "    ripfiles=np.sort(glob.glob(direc+\"/\"+variable+\".\"+experiment+\".\"+model+\".\"+rip+\"*\"))\n",
    "    L=len(ripfiles)\n",
    "    i=0\n",
    "    ripfile=ripfiles[i]\n",
    "    f=cdms.open(ripfile)\n",
    "    data=f(variable)\n",
    "    latax=data.getLatitude()\n",
    "    lonax=data.getLongitude()\n",
    "    tax=np.arange(12)\n",
    "    fpath,fexpt,fmodel,frip,fyear,fnc=ripfile.split(\".\")\n",
    "    CP=MV.zeros(L*12)\n",
    "    SW=MV.zeros(L*12)\n",
    "    full[12*i:12*(i+1)]=data\n",
    "   \n",
    "    f.close()\n",
    "    yearcheck+=[float(fyear)]\n",
    "    for i in range(L)[1:]:\n",
    "      \n",
    "        ripfile=ripfiles[i]\n",
    "\n",
    "        f=cdms.open(ripfile)\n",
    "        data=f(variable)\n",
    "        landdata=MV.masked_where(np.repeat(landfrac.asma()[np.newaxis],12,axis=0)<landthresh,data)\n",
    "        f.close()\n",
    "        fpath,fexpt,fmodel,frip,fyear,fnc=ripfile.split(\".\")\n",
    "        CP[12*i:12*(i+1)]=cdutil.averager(landdata(central_plains),axis='xy')\n",
    "        SW[12*i:12*(i+1)]=cdutil.averager(landdata(southwest),axis='xy')\n",
    "        yearcheck+=[float(fyear)]\n",
    "    tax=cdms.createAxis(np.arange(L*12))\n",
    "    tax.designateTime()\n",
    "    tax.units='months since 1850-1-1'\n",
    "    CP.setAxis(0,tax)\n",
    "    SW.setAxis(0,tax)\n",
    "    CP.id=variable\n",
    "    SW.id=variable\n",
    "        \n",
    "       "
   ]
  },
  {
   "cell_type": "code",
   "execution_count": 149,
   "metadata": {},
   "outputs": [],
   "source": [
    "tax=cdms.createAxis(np.arange(L*12))\n",
    "tax.designateTime()\n",
    "tax.units='months since 1850-1-1'\n",
    "CP.setAxis(0,tax)\n",
    "SW.setAxis(0,tax)\n",
    "CP.id=variable\n",
    "SW.id=variable\n"
   ]
  },
  {
   "cell_type": "code",
   "execution_count": 157,
   "metadata": {},
   "outputs": [
    {
     "data": {
      "image/png": "[encoded data removed]",
      "text/plain": [
       "<Figure size 432x288 with 1 Axes>"
      ]
     },
     "metadata": {
      "needs_background": "light"
     },
     "output_type": "display_data"
    }
   ],
   "source": [
    "cdutil.setTimeBoundsMonthly(SW)\n",
    "Plotting.time_plot(cdutil.JJA.departures(SW,criteriaarg=(1,None))[1:])"
   ]
  },
  {
   "cell_type": "code",
   "execution_count": 165,
   "metadata": {},
   "outputs": [
    {
     "data": {
      "text/plain": [
       "'evspsbl.historical.BCC-CSM2-MR.r1i1p1f1.nc'"
      ]
     },
     "execution_count": 165,
     "metadata": {},
     "output_type": "execute_result"
    }
   ],
   "source": [
    "variable+\".\"+experiment+\".\"+model+\".\"+rip+\".nc\""
   ]
  },
  {
   "cell_type": "code",
   "execution_count": 65,
   "metadata": {},
   "outputs": [
    {
     "data": {
      "text/plain": [
       "[<matplotlib.lines.Line2D at 0x7f879d7ca828>]"
      ]
     },
     "execution_count": 65,
     "metadata": {},
     "output_type": "execute_result"
    },
    {
     "data": {
      "image/png": "[encoded data removed]",
      "text/plain": [
       "<Figure size 432x288 with 1 Axes>"
      ]
     },
     "metadata": {
      "needs_background": "light"
     },
     "output_type": "display_data"
    }
   ],
   "source": [
    "plt.plot(cdutil.averager(data(central_plains),axis='xy',weights='generate').asma())"
   ]
  },
  {
   "cell_type": "code",
   "execution_count": 64,
   "metadata": {},
   "outputs": [
    {
     "ename": "AveragerError",
     "evalue": "('E', 'r', 'r', 'o', 'r', ':', ' ', 'M', 'u', 'l', 't', 'i', 'p', 'l', 'e', ' ', 'a', 'x', 'e', 's', ' ', 'p', 'a', 's', 's', 'e', 'd', ' ', 'w', 'i', 't', 'h', 'o', 'u', 't', ' ', 'w', 'e', 'i', 'g', 'h', 't', 's', ' ', 't', 'o', ' ', 'm', 'a', 't', 'c', 'h')",
     "output_type": "error",
     "traceback": [
      "\u001b[0;31m---------------------------------------------------------------------------\u001b[0m",
      "\u001b[0;31mAveragerError\u001b[0m                             Traceback (most recent call last)",
      "\u001b[0;32m<ipython-input-64-0588bd3416f8>\u001b[0m in \u001b[0;36m<module>\u001b[0;34m\u001b[0m\n\u001b[0;32m----> 1\u001b[0;31m \u001b[0mcdutil\u001b[0m\u001b[0;34m.\u001b[0m\u001b[0maverager\u001b[0m\u001b[0;34m(\u001b[0m\u001b[0mdata\u001b[0m\u001b[0;34m(\u001b[0m\u001b[0mcentral_plains\u001b[0m\u001b[0;34m)\u001b[0m\u001b[0;34m,\u001b[0m\u001b[0maxis\u001b[0m\u001b[0;34m=\u001b[0m\u001b[0;34m'xy'\u001b[0m\u001b[0;34m,\u001b[0m\u001b[0mweights\u001b[0m\u001b[0;34m=\u001b[0m\u001b[0;34m'equal'\u001b[0m\u001b[0;34m)\u001b[0m\u001b[0;34m\u001b[0m\u001b[0;34m\u001b[0m\u001b[0m\n\u001b[0m",
      "\u001b[0;32m~/anaconda3/envs/cdat_plus/lib/python3.6/site-packages/genutil/averager.py\u001b[0m in \u001b[0;36maverager\u001b[0;34m(V, axis, weights, action, returned, weight, combinewts)\u001b[0m\n\u001b[1;32m   1262\u001b[0m         \u001b[0mprint\u001b[0m\u001b[0;34m(\u001b[0m\u001b[0;34m'Checking weights= options:'\u001b[0m\u001b[0;34m,\u001b[0m \u001b[0mweights\u001b[0m\u001b[0;34m)\u001b[0m\u001b[0;34m\u001b[0m\u001b[0;34m\u001b[0m\u001b[0m\n\u001b[1;32m   1263\u001b[0m     \u001b[0;31m#\u001b[0m\u001b[0;34m\u001b[0m\u001b[0;34m\u001b[0m\u001b[0;34m\u001b[0m\u001b[0m\n\u001b[0;32m-> 1264\u001b[0;31m     \u001b[0mfilled_wtoptions\u001b[0m \u001b[0;34m=\u001b[0m \u001b[0m__check_weightoptions\u001b[0m\u001b[0;34m(\u001b[0m\u001b[0mV\u001b[0m\u001b[0;34m,\u001b[0m \u001b[0maxis\u001b[0m\u001b[0;34m,\u001b[0m \u001b[0mweights\u001b[0m\u001b[0;34m)\u001b[0m\u001b[0;34m\u001b[0m\u001b[0;34m\u001b[0m\u001b[0m\n\u001b[0m\u001b[1;32m   1265\u001b[0m     \u001b[0;32mif\u001b[0m \u001b[0m__DEBUG__\u001b[0m\u001b[0;34m:\u001b[0m\u001b[0;34m\u001b[0m\u001b[0;34m\u001b[0m\u001b[0m\n\u001b[1;32m   1266\u001b[0m         \u001b[0mprint\u001b[0m\u001b[0;34m(\u001b[0m\u001b[0;34m'The weights options are '\u001b[0m\u001b[0;34m,\u001b[0m \u001b[0mfilled_wtoptions\u001b[0m\u001b[0;34m)\u001b[0m\u001b[0;34m\u001b[0m\u001b[0;34m\u001b[0m\u001b[0m\n",
      "\u001b[0;32m~/anaconda3/envs/cdat_plus/lib/python3.6/site-packages/genutil/averager.py\u001b[0m in \u001b[0;36m__check_weightoptions\u001b[0;34m(x, axisoptions, weightoptions)\u001b[0m\n\u001b[1;32m    484\u001b[0m                 \u001b[0;31m# multiple axes.\u001b[0m\u001b[0;34m\u001b[0m\u001b[0;34m\u001b[0m\u001b[0;34m\u001b[0m\u001b[0m\n\u001b[1;32m    485\u001b[0m                 raise AveragerError(\n\u001b[0;32m--> 486\u001b[0;31m                     'Error: Multiple axes passed without weights to match')\n\u001b[0m\u001b[1;32m    487\u001b[0m             \u001b[0;31m# end of if weightoptions == 'generate':\u001b[0m\u001b[0;34m\u001b[0m\u001b[0;34m\u001b[0m\u001b[0;34m\u001b[0m\u001b[0m\n\u001b[1;32m    488\u001b[0m     \u001b[0;32melse\u001b[0m\u001b[0;34m:\u001b[0m\u001b[0;34m\u001b[0m\u001b[0;34m\u001b[0m\u001b[0m\n",
      "\u001b[0;31mAveragerError\u001b[0m: ('E', 'r', 'r', 'o', 'r', ':', ' ', 'M', 'u', 'l', 't', 'i', 'p', 'l', 'e', ' ', 'a', 'x', 'e', 's', ' ', 'p', 'a', 's', 's', 'e', 'd', ' ', 'w', 'i', 't', 'h', 'o', 'u', 't', ' ', 'w', 'e', 'i', 'g', 'h', 't', 's', ' ', 't', 'o', ' ', 'm', 'a', 't', 'c', 'h')"
     ]
    }
   ],
   "source": []
  },
  {
   "cell_type": "code",
   "execution_count": 83,
   "metadata": {},
   "outputs": [
    {
     "name": "stderr",
     "output_type": "stream",
     "text": [
      "/Users/kmarvel/anaconda3/envs/cdat_plus/lib/python3.6/site-packages/numpy/ma/core.py:3201: FutureWarning: Using a non-tuple sequence for multidimensional indexing is deprecated; use `arr[tuple(seq)]` instead of `arr[seq]`. In the future this will be interpreted as an array index, `arr[np.array(seq)]`, which will result either in an error or a different result.\n",
      "  mout = _mask[indx]\n"
     ]
    },
    {
     "data": {
      "text/plain": [
       "<matplotlib.collections.LineCollection at 0x7f879de68048>"
      ]
     },
     "execution_count": 83,
     "metadata": {},
     "output_type": "execute_result"
    },
    {
     "data": {
      "image/png": "[encoded data removed]",
      "text/plain": [
       "<Figure size 432x288 with 1 Axes>"
      ]
     },
     "metadata": {},
     "output_type": "display_data"
    }
   ],
   "source": [
    "test=data[0]\n",
    "testland=MV.masked_where(landfrac==0,test)\n",
    "m=Plotting.bmap(testland(southwest))\n",
    "m.drawcoastlines()"
   ]
  },
  {
   "cell_type": "code",
   "execution_count": 82,
   "metadata": {},
   "outputs": [
    {
     "data": {
      "text/plain": [
       "sftlf\n",
       "masked_array(\n",
       "  data=[[100., 100., 100., ..., 100., 100., 100.],\n",
       "        [100., 100., 100., ..., 100., 100., 100.],\n",
       "        [100., 100., 100., ..., 100., 100., 100.],\n",
       "        ...,\n",
       "        [  0.,   0.,   0., ...,   0.,   0.,   0.],\n",
       "        [  0.,   0.,   0., ...,   0.,   0.,   0.],\n",
       "        [  0.,   0.,   0., ...,   0.,   0.,   0.]],\n",
       "  mask=False,\n",
       "  fill_value=1e+20,\n",
       "  dtype=float32)"
      ]
     },
     "execution_count": 82,
     "metadata": {},
     "output_type": "execute_result"
    }
   ],
   "source": []
  },
  {
   "cell_type": "code",
   "execution_count": null,
   "metadata": {},
   "outputs": [],
   "source": []
  }
 ],
 "metadata": {
  "kernelspec": {
   "display_name": "Python 3",
   "language": "python",
   "name": "python3"
  },
  "language_info": {
   "codemirror_mode": {
    "name": "ipython",
    "version": 3
   },
   "file_extension": ".py",
   "mimetype": "text/x-python",
   "name": "python",
   "nbconvert_exporter": "python",
   "pygments_lexer": "ipython3",
   "version": "3.6.7"
  }
 },
 "nbformat": 4,
 "nbformat_minor": 2
}
