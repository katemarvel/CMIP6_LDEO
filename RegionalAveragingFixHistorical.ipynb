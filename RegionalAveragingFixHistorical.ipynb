{
 "cells": [
  {
   "cell_type": "markdown",
   "metadata": {},
   "source": [
    "# Fixing initial problems\n",
    "The original regional averaging code didn't write the 0th element of every array and screwed up the time axis\n"
   ]
  },
  {
   "cell_type": "code",
   "execution_count": 1,
   "metadata": {},
   "outputs": [],
   "source": [
    "import cdms2 as cdms\n",
    "import MV2 as MV\n",
    "import cdtime,cdutil,genutil\n",
    "import numpy as np\n",
    "import matplotlib.pyplot as plt\n",
    "import matplotlib.cm as cm\n",
    "import string\n",
    "import glob\n",
    "import scipy.stats as stats\n",
    "# Local solution\n",
    "# If running remotely, uncomment the following code:\n",
    "# %%bash\n",
    "# git clone https://github.com/katemarvel/CMIP5_tools\n",
    "# import CMIP5_tools as cmip5\n",
    "import sys,os\n",
    "sys.path.append(\"/Users/kmarvel/Google Drive/python-utils\")\n",
    "\n",
    "import CMIP5_tools as cmip5\n",
    "import DA_tools\n",
    "import Plotting\n",
    "\n",
    "from eofs.cdms import Eof\n",
    "from eofs.multivariate.cdms import MultivariateEof\n",
    "%matplotlib inline"
   ]
  },
  {
   "cell_type": "code",
   "execution_count": 2,
   "metadata": {},
   "outputs": [],
   "source": [
    "central_plains=cdutil.region.domain(longitude=(-105,-92),latitude=(32,46))\n",
    "southwest=cdutil.region.domain(longitude=(-125,-105),latitude=(32,41))\n"
   ]
  },
  {
   "cell_type": "code",
   "execution_count": 3,
   "metadata": {},
   "outputs": [],
   "source": [
    "#sshfs mout to kdm2144@dester.ldeo.columbia.edu:/home/kdm2144/ \n",
    "#datadirec=\"/Users/kmarvel/Documents/DATA/dester/\"\n",
    "datadirec=\"/Users/kmarvel/Documents/DATA/dester/piControlRaw/\n",
    "#datadirec=\"/Volumes/RAVEN/CMIP6/cmip6rawyr/\"\n",
    "writedirec=\"/Users/kmarvel/Documents/DATA/dester/regional_averages/\"\n",
    "fixedvardirec=\"/Users/kmarvel/Documents/DATA/dester/fixedvar/\""
   ]
  },
  {
   "cell_type": "code",
   "execution_count": 4,
   "metadata": {},
   "outputs": [],
   "source": [
    "#experiments=[\"historical\",\"ssp126\",\"ssp245\",\"ssp370\",\"ssp585\"]\n",
    "experiments=\"piControl\""
   ]
  },
  {
   "cell_type": "code",
   "execution_count": 6,
   "metadata": {},
   "outputs": [
    {
     "name": "stdout",
     "output_type": "stream",
     "text": [
      "evspsbl.piControl.BCC-CSM2-MR.r1i1p1f1*\n",
      "mrsos.piControl.BCC-ESM1.r1i1p1f1*\n",
      "mrsos.piControl.CanESM5.r1i1p1f1*\n",
      "mrsos.piControl.CanESM5.r1i1p2f1*\n",
      "mrsos.piControl.CESM2.r1i1p1f1*\n",
      "mrsos.piControl.CESM2-WACCM.r1i1p1f1*\n",
      "mrsos.piControl.CNRM-ESM2-1.r1i1p1f2*\n"
     ]
    },
    {
     "ename": "CDMSError",
     "evalue": "Cannot open file /Users/kmarvel/Documents/DATA/dester/regional_averages/central_plains/mrsos/piControl/mrsos.piControl.E3SM-1-0.r1i1p1f1.nc (Variable not found)",
     "output_type": "error",
     "traceback": [
      "\u001b[0;31m---------------------------------------------------------------------------\u001b[0m",
      "\u001b[0;31mOSError\u001b[0m                                   Traceback (most recent call last)",
      "\u001b[0;32m~/anaconda3/envs/cdat_plus/lib/python3.6/site-packages/cdms2/dataset.py\u001b[0m in \u001b[0;36m__init__\u001b[0;34m(self, path, mode, hostObj, mpiBarrier)\u001b[0m\n\u001b[1;32m   1280\u001b[0m                     \u001b[0;32mpass\u001b[0m\u001b[0;34m\u001b[0m\u001b[0;34m\u001b[0m\u001b[0m\n\u001b[0;32m-> 1281\u001b[0;31m             \u001b[0m_fileobj_\u001b[0m \u001b[0;34m=\u001b[0m \u001b[0mCdunif\u001b[0m\u001b[0;34m.\u001b[0m\u001b[0mCdunifFile\u001b[0m\u001b[0;34m(\u001b[0m\u001b[0mpath\u001b[0m\u001b[0;34m,\u001b[0m \u001b[0mmode\u001b[0m\u001b[0;34m)\u001b[0m\u001b[0;34m\u001b[0m\u001b[0;34m\u001b[0m\u001b[0m\n\u001b[0m\u001b[1;32m   1282\u001b[0m         \u001b[0;32mexcept\u001b[0m \u001b[0mException\u001b[0m \u001b[0;32mas\u001b[0m \u001b[0merr\u001b[0m\u001b[0;34m:\u001b[0m\u001b[0;34m\u001b[0m\u001b[0;34m\u001b[0m\u001b[0m\n",
      "\u001b[0;31mOSError\u001b[0m: Variable not found",
      "\nDuring handling of the above exception, another exception occurred:\n",
      "\u001b[0;31mCDMSError\u001b[0m                                 Traceback (most recent call last)",
      "\u001b[0;32m<ipython-input-6-14bbfdb432c2>\u001b[0m in \u001b[0;36m<module>\u001b[0;34m\u001b[0m\n\u001b[1;32m     44\u001b[0m                 \u001b[0;31m#Open the existing data\u001b[0m\u001b[0;34m\u001b[0m\u001b[0;34m\u001b[0m\u001b[0;34m\u001b[0m\u001b[0m\n\u001b[1;32m     45\u001b[0m                 \u001b[0mcp_writename\u001b[0m\u001b[0;34m=\u001b[0m\u001b[0mcp_writedirec\u001b[0m\u001b[0;34m+\u001b[0m\u001b[0mvariable\u001b[0m\u001b[0;34m+\u001b[0m\u001b[0;34m\".\"\u001b[0m\u001b[0;34m+\u001b[0m\u001b[0mexperiment\u001b[0m\u001b[0;34m+\u001b[0m\u001b[0;34m\".\"\u001b[0m\u001b[0;34m+\u001b[0m\u001b[0mmodel\u001b[0m\u001b[0;34m+\u001b[0m\u001b[0;34m\".\"\u001b[0m\u001b[0;34m+\u001b[0m\u001b[0mrip\u001b[0m\u001b[0;34m+\u001b[0m\u001b[0;34m\".nc\"\u001b[0m\u001b[0;34m\u001b[0m\u001b[0;34m\u001b[0m\u001b[0m\n\u001b[0;32m---> 46\u001b[0;31m                 \u001b[0mfcpw\u001b[0m\u001b[0;34m=\u001b[0m\u001b[0mcdms\u001b[0m\u001b[0;34m.\u001b[0m\u001b[0mopen\u001b[0m\u001b[0;34m(\u001b[0m\u001b[0mcp_writename\u001b[0m\u001b[0;34m)\u001b[0m\u001b[0;34m\u001b[0m\u001b[0;34m\u001b[0m\u001b[0m\n\u001b[0m\u001b[1;32m     47\u001b[0m                 \u001b[0mCP\u001b[0m\u001b[0;34m=\u001b[0m\u001b[0mfcpw\u001b[0m\u001b[0;34m(\u001b[0m\u001b[0mvariable\u001b[0m\u001b[0;34m)\u001b[0m\u001b[0;34m\u001b[0m\u001b[0;34m\u001b[0m\u001b[0m\n\u001b[1;32m     48\u001b[0m                 \u001b[0mfcpw\u001b[0m\u001b[0;34m.\u001b[0m\u001b[0mclose\u001b[0m\u001b[0;34m(\u001b[0m\u001b[0;34m)\u001b[0m\u001b[0;34m\u001b[0m\u001b[0;34m\u001b[0m\u001b[0m\n",
      "\u001b[0;32m~/anaconda3/envs/cdat_plus/lib/python3.6/site-packages/cdms2/dataset.py\u001b[0m in \u001b[0;36mopenDataset\u001b[0;34m(uri, mode, template, dods, dpath, hostObj)\u001b[0m\n\u001b[1;32m    497\u001b[0m             \u001b[0;31m# rank\u001b[0m\u001b[0;34m\u001b[0m\u001b[0;34m\u001b[0m\u001b[0;34m\u001b[0m\u001b[0m\n\u001b[1;32m    498\u001b[0m             \u001b[0;32mif\u001b[0m \u001b[0;32mnot\u001b[0m \u001b[0mos\u001b[0m\u001b[0;34m.\u001b[0m\u001b[0mpath\u001b[0m\u001b[0;34m.\u001b[0m\u001b[0mexists\u001b[0m\u001b[0;34m(\u001b[0m\u001b[0mpath\u001b[0m\u001b[0;34m)\u001b[0m\u001b[0;34m:\u001b[0m\u001b[0;34m\u001b[0m\u001b[0;34m\u001b[0m\u001b[0m\n\u001b[0;32m--> 499\u001b[0;31m                 \u001b[0;32mreturn\u001b[0m \u001b[0mCdmsFile\u001b[0m\u001b[0;34m(\u001b[0m\u001b[0mpath\u001b[0m\u001b[0;34m,\u001b[0m \u001b[0mmode\u001b[0m\u001b[0;34m,\u001b[0m \u001b[0mmpiBarrier\u001b[0m\u001b[0;34m=\u001b[0m\u001b[0mCdMpi\u001b[0m\u001b[0;34m)\u001b[0m\u001b[0;34m\u001b[0m\u001b[0;34m\u001b[0m\u001b[0m\n\u001b[0m\u001b[1;32m    500\u001b[0m             \u001b[0;32melif\u001b[0m \u001b[0mmode\u001b[0m \u001b[0;34m==\u001b[0m \u001b[0;34m\"w\"\u001b[0m\u001b[0;34m:\u001b[0m\u001b[0;34m\u001b[0m\u001b[0;34m\u001b[0m\u001b[0m\n\u001b[1;32m    501\u001b[0m                 \u001b[0;32mtry\u001b[0m\u001b[0;34m:\u001b[0m\u001b[0;34m\u001b[0m\u001b[0;34m\u001b[0m\u001b[0m\n",
      "\u001b[0;32m~/anaconda3/envs/cdat_plus/lib/python3.6/site-packages/cdms2/dataset.py\u001b[0m in \u001b[0;36m__init__\u001b[0;34m(self, path, mode, hostObj, mpiBarrier)\u001b[0m\n\u001b[1;32m   1281\u001b[0m             \u001b[0m_fileobj_\u001b[0m \u001b[0;34m=\u001b[0m \u001b[0mCdunif\u001b[0m\u001b[0;34m.\u001b[0m\u001b[0mCdunifFile\u001b[0m\u001b[0;34m(\u001b[0m\u001b[0mpath\u001b[0m\u001b[0;34m,\u001b[0m \u001b[0mmode\u001b[0m\u001b[0;34m)\u001b[0m\u001b[0;34m\u001b[0m\u001b[0;34m\u001b[0m\u001b[0m\n\u001b[1;32m   1282\u001b[0m         \u001b[0;32mexcept\u001b[0m \u001b[0mException\u001b[0m \u001b[0;32mas\u001b[0m \u001b[0merr\u001b[0m\u001b[0;34m:\u001b[0m\u001b[0;34m\u001b[0m\u001b[0;34m\u001b[0m\u001b[0m\n\u001b[0;32m-> 1283\u001b[0;31m             \u001b[0;32mraise\u001b[0m \u001b[0mCDMSError\u001b[0m\u001b[0;34m(\u001b[0m\u001b[0;34m'Cannot open file %s (%s)'\u001b[0m \u001b[0;34m%\u001b[0m \u001b[0;34m(\u001b[0m\u001b[0mpath\u001b[0m\u001b[0;34m,\u001b[0m \u001b[0merr\u001b[0m\u001b[0;34m)\u001b[0m\u001b[0;34m)\u001b[0m\u001b[0;34m\u001b[0m\u001b[0;34m\u001b[0m\u001b[0m\n\u001b[0m\u001b[1;32m   1284\u001b[0m         \u001b[0mself\u001b[0m\u001b[0;34m.\u001b[0m\u001b[0m_file_\u001b[0m \u001b[0;34m=\u001b[0m \u001b[0m_fileobj_\u001b[0m   \u001b[0;31m# Cdunif file object\u001b[0m\u001b[0;34m\u001b[0m\u001b[0;34m\u001b[0m\u001b[0m\n\u001b[1;32m   1285\u001b[0m         \u001b[0mself\u001b[0m\u001b[0;34m.\u001b[0m\u001b[0mvariables\u001b[0m \u001b[0;34m=\u001b[0m \u001b[0;34m{\u001b[0m\u001b[0;34m}\u001b[0m\u001b[0;34m\u001b[0m\u001b[0;34m\u001b[0m\u001b[0m\n",
      "\u001b[0;31mCDMSError\u001b[0m: Cannot open file /Users/kmarvel/Documents/DATA/dester/regional_averages/central_plains/mrsos/piControl/mrsos.piControl.E3SM-1-0.r1i1p1f1.nc (Variable not found)"
     ]
    }
   ],
   "source": [
    "\n",
    "variables=[x.split(\"/\")[-1] for x in glob.glob(datadirec+\"*\")]\n",
    "#variables=['mrsos', 'pr', 'prsn', 'tas']\n",
    "\n",
    "###### LOOP OVER ALL VARIABLES #####\n",
    "for variable in variables:\n",
    "    \n",
    "    modeldirs=glob.glob(datadirec+variable+\"/*\")\n",
    "    ### LOOP OVER ALL MODELS\n",
    "    for direc in modeldirs:\n",
    "        model=direc.split(\"/\")[-1]\n",
    "        #print(model)\n",
    "        allfiles=glob.glob(direc+\"/*\"+variable+\"*\")\n",
    "        #experiments=np.unique([x.split(\".\")[1] for x in allfiles])\n",
    "        #experiments=[\"historical\",\"ssp126\",\"ssp245\",\"ssp370\",\"ssp585\"]\n",
    "        experiments=[\"piControl\"]\n",
    "        ###### LOOP OVER ALL EXPERIMENTS #####\n",
    "        for experiment in experiments:\n",
    "            #print(experiment)\n",
    "            cp_writedirec=writedirec+\"central_plains/\"+variable+\"/\"+experiment+\"/\"\n",
    "            \n",
    "            sw_writedirec=writedirec+\"southwest/\"+variable+\"/\"+experiment+\"/\"\n",
    "            \n",
    "            allfiles_experiment=glob.glob(direc+\"/\"+variable+\".\"+experiment+\".*\")\n",
    "            rips=np.unique([x.split(\".\")[-3] for x in allfiles_experiment])\n",
    "\n",
    "            landthresh=1\n",
    "            #Get the land fraction\n",
    "            landfiles=glob.glob(fixedvardirec+\"sftlf*\"+model+\".*\")\n",
    "            \n",
    "\n",
    "            if len(landfiles)==1:\n",
    "                fland=cdms.open(landfiles[0])\n",
    "                landfrac=fland(\"sftlf\")\n",
    "                fland.close()\n",
    "            else:\n",
    "                #print(\"can't find land fraction file for\", model)\n",
    "                #print(landfiles)\n",
    "                continue\n",
    "\n",
    "\n",
    "            ###### LOOP OVER ALL RIPS #####\n",
    "            for rip in rips:\n",
    "                #Open the existing data\n",
    "                cp_writename=cp_writedirec+variable+\".\"+experiment+\".\"+model+\".\"+rip+\".nc\"\n",
    "                fcpw=cdms.open(cp_writename)    \n",
    "                CP=fcpw(variable)\n",
    "                fcpw.close()\n",
    "                sw_writename=sw_writedirec+variable+\".\"+experiment+\".\"+model+\".\"+rip+\".nc\"\n",
    "                fsww=cdms.open(sw_writename)    \n",
    "                SW = fsww(variable)\n",
    "                fsww.close()  \n",
    "                \n",
    "                \n",
    "                \n",
    "                ripfiles=np.sort(glob.glob(direc+\"/\"+variable+\".\"+experiment+\".\"+model+\".\"+rip+\"*\"))\n",
    "                print(variable+\".\"+experiment+\".\"+model+\".\"+rip+\"*\")\n",
    "                L=len(ripfiles)\n",
    "                i=0\n",
    "                ripfile=ripfiles[i]\n",
    "                frip=cdms.open(ripfile)\n",
    "                data=frip(variable)\n",
    "                frip.close()\n",
    "                if data.shape[1:]!=landfrac.shape:\n",
    "                    print (\"land mask wrong shape for \"+variable+\".\"+experiment+\".\"+model+\".\"+rip)\n",
    "                    continue\n",
    "                \n",
    "                \n",
    "                landdata=MV.masked_where(np.repeat(landfrac.asma()[np.newaxis],12,axis=0)<landthresh,data)\n",
    "                fpath,fexpt,fmodel,frip,fyear,fnc=ripfile.split(\".\")\n",
    "               \n",
    "                CP[12*i:12*(i+1)]=cdutil.averager(landdata(central_plains),axis='xy')\n",
    "                SW[12*i:12*(i+1)]=cdutil.averager(landdata(southwest),axis='xy')\n",
    "             \n",
    "\n",
    "                tax=cdms.createAxis(np.arange(L*12))\n",
    "                tax.designateTime()\n",
    "                tax.units='months since '+str(fyear)+'-1-1'\n",
    "                CP.setAxis(0,tax)\n",
    "                SW.setAxis(0,tax)\n",
    "                CP.id=variable\n",
    "                SW.id=variable\n",
    "                cp_writename=cp_writedirec+variable+\".\"+experiment+\".\"+model+\".\"+rip+\".nc\"\n",
    "                fcpw=cdms.open(cp_writename,\"w\")    \n",
    "                fcpw.write(CP)\n",
    "                fcpw.close()\n",
    "                sw_writename=sw_writedirec+variable+\".\"+experiment+\".\"+model+\".\"+rip+\".nc\"\n",
    "                fsww=cdms.open(sw_writename,\"w\")    \n",
    "                fsww.write(SW)\n",
    "                fsww.close()  "
   ]
  },
  {
   "cell_type": "code",
   "execution_count": 8,
   "metadata": {},
   "outputs": [
    {
     "data": {
      "text/plain": [
       "'/Users/kmarvel/Documents/DATA/dester/regional_averages/central_plains/mrsos/piControl/mrsos.piControl.E3SM-1-0.r1i1p1f1.nc'"
      ]
     },
     "execution_count": 8,
     "metadata": {},
     "output_type": "execute_result"
    }
   ],
   "source": [
    "cp_writename"
   ]
  },
  {
   "cell_type": "raw",
   "metadata": {},
   "source": [
    "rips"
   ]
  },
  {
   "cell_type": "code",
   "execution_count": null,
   "metadata": {},
   "outputs": [],
   "source": []
  }
 ],
 "metadata": {
  "kernelspec": {
   "display_name": "Python 3",
   "language": "python",
   "name": "python3"
  },
  "language_info": {
   "codemirror_mode": {
    "name": "ipython",
    "version": 3
   },
   "file_extension": ".py",
   "mimetype": "text/x-python",
   "name": "python",
   "nbconvert_exporter": "python",
   "pygments_lexer": "ipython3",
   "version": "3.6.7"
  }
 },
 "nbformat": 4,
 "nbformat_minor": 2
}
